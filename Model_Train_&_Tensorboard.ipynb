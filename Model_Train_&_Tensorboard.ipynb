{
  "nbformat": 4,
  "nbformat_minor": 0,
  "metadata": {
    "colab": {
      "provenance": []
    },
    "kernelspec": {
      "name": "python3",
      "display_name": "Python 3"
    },
    "language_info": {
      "name": "python"
    }
  },
  "cells": [
    {
      "cell_type": "code",
      "source": [],
      "metadata": {
        "id": "ilN1T3D4FySM"
      },
      "execution_count": null,
      "outputs": []
    },
    {
      "cell_type": "markdown",
      "source": [
        "# **웹툰 장르별 썸네일 모델(ResNet50)에 학습**"
      ],
      "metadata": {
        "id": "qXuvqSmYv9QN"
      }
    },
    {
      "cell_type": "code",
      "source": [
        "!pip install tensorflow==2.8"
      ],
      "metadata": {
        "id": "NU6446t3_R3a"
      },
      "execution_count": null,
      "outputs": []
    },
    {
      "cell_type": "code",
      "source": [
        "!apt install --allow-change-held-packages libcudnn8=8.1.0.77-1+cuda11.2"
      ],
      "metadata": {
        "id": "LehN8o9v_V9E"
      },
      "execution_count": null,
      "outputs": []
    },
    {
      "cell_type": "code",
      "execution_count": null,
      "metadata": {
        "id": "i1nAojzYqz3T"
      },
      "outputs": [],
      "source": [
        "pip install split-folders"
      ]
    },
    {
      "cell_type": "code",
      "execution_count": null,
      "metadata": {
        "id": "-Syon1nT9Kuz"
      },
      "outputs": [],
      "source": [
        "import splitfolders\n",
        "\n",
        "import os # 리눅스 명령어를 파이선에서 쓰고 싶을 때\n",
        "\n",
        "import cv2 # 이미지 읽어들일 때\n",
        "import numpy as np\n",
        "\n",
        "from matplotlib import pyplot as plt\n",
        "import matplotlib.cm as cm\n",
        "\n",
        "import tensorflow as tf\n",
        "\n",
        "import pickle\n",
        "\n",
        "from tensorflow.keras.preprocessing.image import ImageDataGenerator, array_to_img, img_to_array, load_img"
      ]
    },
    {
      "cell_type": "code",
      "execution_count": null,
      "metadata": {
        "id": "NLcF3isGKUFY"
      },
      "outputs": [],
      "source": [
        "from tensorflow.keras.applications.resnet50 import ResNet50"
      ]
    },
    {
      "cell_type": "code",
      "execution_count": null,
      "metadata": {
        "id": "JoeuUTFD39Uv"
      },
      "outputs": [],
      "source": [
        "from tensorflow.keras import datasets, layers, models\n",
        "\n",
        "from tensorflow.keras.layers import Dense, Flatten, MaxPooling2D\n",
        "from tensorflow.keras import Input\n",
        "from tensorflow.keras.layers import Dropout, BatchNormalization\n",
        "\n",
        "import matplotlib.pyplot as plt\n",
        "\n",
        "from sklearn.model_selection import train_test_split"
      ]
    },
    {
      "cell_type": "markdown",
      "source": [
        "## **모델학습전 사전 설정**"
      ],
      "metadata": {
        "id": "aqpZHvUIxbDT"
      }
    },
    {
      "cell_type": "code",
      "source": [
        "# 데이터셋 다운로드\n",
        "# !!!!!!너무 자주쓰면 접근제한 걸려서 업데이트 된 새 링크로 교체 필요!!!!!!\n",
        "# !gdown https://drive.google.com/uc?id= #구글드라이브 이미지링크"
      ],
      "metadata": {
        "id": "mY2RnmFkw4wU"
      },
      "execution_count": null,
      "outputs": []
    },
    {
      "cell_type": "code",
      "source": [
        "!unzip -q img.zip"
      ],
      "metadata": {
        "id": "9QWbEOFlpgW4"
      },
      "execution_count": null,
      "outputs": []
    },
    {
      "cell_type": "code",
      "source": [
        "# 경로를 문자열로 놓고 변수화하면 해당 경로의 파일들을 참조하여 읽어들이기 편함\n",
        "folder_path = '/content/img' \n",
        "label_names = os.listdir(folder_path)\n",
        "label_names"
      ],
      "metadata": {
        "id": "LNUzGHB3kWPK"
      },
      "execution_count": null,
      "outputs": []
    },
    {
      "cell_type": "code",
      "source": [
        " # 파일에 라벨 달기\n",
        "\n",
        "dataset = {} # 딕셔너리의 key = 라벨, value = 이미지 경로\n",
        "\n",
        "# 이미지와 라벨 리스트에 담기\n",
        "for label in os.listdir(folder_path):\n",
        "    sub_path = folder_path+'/'+label+'/' # 세부 경로 지정\n",
        "    dataset[label] = []\n",
        "    for filename in os.listdir(sub_path):\n",
        "        dataset[label].append(sub_path+filename)\n",
        "\n",
        "dataset"
      ],
      "metadata": {
        "id": "kluhmPNYkt0H"
      },
      "execution_count": null,
      "outputs": []
    },
    {
      "cell_type": "code",
      "source": [
        "!mkdir resized\n",
        "!mkdir resized/daily\n",
        "!mkdir resized/comic\n",
        "!mkdir resized/fantasy\n",
        "!mkdir resized/action\n",
        "!mkdir resized/drama\n",
        "!mkdir resized/pure\n",
        "!mkdir resized/sensibility\n",
        "!mkdir resized/thrill\n",
        "!mkdir resized/historical\n",
        "!mkdir resized/sports"
      ],
      "metadata": {
        "id": "pwWmvCVJk0l5"
      },
      "execution_count": null,
      "outputs": []
    },
    {
      "cell_type": "markdown",
      "source": [
        "## **Resize with padding**"
      ],
      "metadata": {
        "id": "j3rYlQHzkSBQ"
      }
    },
    {
      "cell_type": "markdown",
      "source": [
        "### **train data**"
      ],
      "metadata": {
        "id": "_oFTtE2cxn6L"
      }
    },
    {
      "cell_type": "code",
      "execution_count": null,
      "metadata": {
        "id": "QrMryWR89Ku2"
      },
      "outputs": [],
      "source": [
        "for label, filenames in dataset.items():\n",
        "    for filename in filenames:\n",
        "        img = cv2.imread(filename) # cv2.imread(filename = 파일경로)\n",
        "\n",
        "        # 이미지의 x, y가 112이 넘을 경우 작게해주기\n",
        "        percent = 1\n",
        "        if(img.shape[1] > img.shape[0]) :       # 이미지의 가로가 세보다 크면 가로를 112으로 맞추고 세로를 비율에 맞춰서\n",
        "            percent = 112/img.shape[1]\n",
        "        else :\n",
        "            percent = 112/img.shape[0]\n",
        "\n",
        "        img = cv2.resize(img, dsize=(0, 0), fx=percent, fy=percent, interpolation=cv2.INTER_LINEAR)\n",
        "                # 이미지 범위 지정\n",
        "        y,x,h,w = (0,0,img.shape[0], img.shape[1])\n",
        "\n",
        "        # 그림 주변에 검은색으로 칠하기\n",
        "        w_x = (112-(w-x))/2  # w_x = (112 - 그림)을 뺀 나머지 영역 크기 [ 그림나머지/2 [그림] 그림나머지/2 ]\n",
        "        h_y = (112-(h-y))/2\n",
        "\n",
        "        if(w_x < 0):         # 크기가 -면 0으로 지정.\n",
        "            w_x = 0\n",
        "        elif(h_y < 0):\n",
        "            h_y = 0\n",
        "\n",
        "        M = np.float32([[1,0,w_x], [0,1,h_y]])  #(2*3 이차원 행렬)\n",
        "        img_re = cv2.warpAffine(img, M, (112, 112)) #이동변환\n",
        "       \n",
        "        # cv2.imwrite('{0}.jpg',image .format(file)) #파일저장\n",
        "        cv2.imwrite('/content/resized/{0}/{1}'.format(label, filename.split(\"/\")[-1]) , img_re)"
      ]
    },
    {
      "cell_type": "code",
      "source": [
        "# 전처리 확인\n",
        "plt.imshow(cv2.imread('/content/resized/comic/100_comic_103759.jpg'))"
      ],
      "metadata": {
        "id": "k4qObBRYne19"
      },
      "execution_count": null,
      "outputs": []
    },
    {
      "cell_type": "code",
      "source": [
        "import splitfolders\n",
        "splitfolders.ratio('resized', output='dataset', seed=77, ratio=(0.6, 0.2, 0.2))# trainset 0.6, validationset 0.2\n",
        "#splitfolders.ratio('resized', output='dataset', seed=77, ratio=(0.8, 0.2)) ## trainset 0.8,testset 0.2\n",
        "\n",
        "# resized 폴더 내 하위폴더들이 있지만 각각을 자동으로 학습/검증 셋으로 분류해줌"
      ],
      "metadata": {
        "id": "rW22alkWnigm"
      },
      "execution_count": null,
      "outputs": []
    },
    {
      "cell_type": "code",
      "source": [
        "folder_path = '/content/dataset/train'\n",
        "dataset = {}\n",
        "\n",
        "# 이미지와 라벨 리스트에 담기\n",
        "for label in os.listdir(folder_path):\n",
        "    sub_path = folder_path+'/'+label+'/'\n",
        "    dataset[label] = []\n",
        "    for filename in os.listdir(sub_path):\n",
        "        dataset[label].append(sub_path+filename)\n",
        "\n",
        "dataset"
      ],
      "metadata": {
        "id": "_S6EY2u8n059"
      },
      "execution_count": null,
      "outputs": []
    },
    {
      "cell_type": "code",
      "source": [
        "label2index = {'daily' : 0, 'comic' : 1 , 'fantasy' : 2 , 'action' : 3,\n",
        "               'drama' : 4, 'pure' : 5, 'sensibility' : 6, 'thrill' : 7, 'historical' : 8, 'sports' : 9}\n"
      ],
      "metadata": {
        "id": "s0w_x9Ebn66U"
      },
      "execution_count": null,
      "outputs": []
    },
    {
      "cell_type": "code",
      "source": [
        "x_train, y_train = [], []\n",
        "\n",
        "for label, filenames in dataset.items():\n",
        "    for filename in filenames:\n",
        "        image = cv2.imread(filename) # img를 array 형태로 변경\n",
        "\n",
        "        x_train.append(image)\n",
        "        y_train.append(label2index[label]) # label을 index로 변경"
      ],
      "metadata": {
        "id": "6sZhOBSDEedn"
      },
      "execution_count": null,
      "outputs": []
    },
    {
      "cell_type": "code",
      "source": [
        "x_train, y_train = np.array(x_train), np.array(y_train) #array로 형변환. 모델이 입력 받을 때 array로만 받음"
      ],
      "metadata": {
        "id": "zSsvdTvZL95O"
      },
      "execution_count": null,
      "outputs": []
    },
    {
      "cell_type": "code",
      "source": [
        "x_train = x_train.astype('float32')"
      ],
      "metadata": {
        "id": "zc28tRPWMdx_"
      },
      "execution_count": null,
      "outputs": []
    },
    {
      "cell_type": "code",
      "source": [
        "x_train.shape, y_train.shape"
      ],
      "metadata": {
        "id": "Nat2TK04H4oy"
      },
      "execution_count": null,
      "outputs": []
    },
    {
      "cell_type": "markdown",
      "source": [
        "### **Augmentation**"
      ],
      "metadata": {
        "id": "UCwgPTc2vtau"
      }
    },
    {
      "cell_type": "code",
      "source": [
        "datagen = ImageDataGenerator(\n",
        "    rotation_range=40,\n",
        "    width_shift_range=0.2,\n",
        "    height_shift_range=0.2,\n",
        "    shear_range=0.2,\n",
        "    zoom_range=0.2,\n",
        "    horizontal_flip=True,\n",
        "    vertical_flip=True,\n",
        ")"
      ],
      "metadata": {
        "id": "y8lciOkOvu5I"
      },
      "execution_count": null,
      "outputs": []
    },
    {
      "cell_type": "code",
      "source": [
        "# folder_path"
      ],
      "metadata": {
        "id": "Jg54sKEpv51L"
      },
      "execution_count": null,
      "outputs": []
    },
    {
      "cell_type": "code",
      "source": [
        "from tqdm import tqdm\n",
        "\n",
        "for label in  tqdm(os.listdir(folder_path)):\n",
        "    label_path = folder_path + '/' + label + '/'\n",
        "    for filename in os.listdir(label_path): \n",
        "        filepath = label_path + filename\n",
        "\n",
        "        img = load_img(filepath)\n",
        "        # img 출력\n",
        "        # plt.imshow(img)\n",
        "        # break\n",
        "        x = img_to_array(img)\n",
        "        # x.shape 출력\n",
        "        # print(x.shape)\n",
        "        # break\n",
        "        x = x.reshape((1,) + x.shape) # batch_size 값을 하나를 줘야 하므로\n",
        "        i = 0\n",
        "        # flow = augmentation 함수\n",
        "        for batch in datagen.flow(x, batch_size=1,\n",
        "                                save_to_dir=label_path, save_prefix=label, save_format='jpg'):\n",
        "            i += 1\n",
        "            if i > 2:\n",
        "                break  "
      ],
      "metadata": {
        "id": "G1AXSk20M__G"
      },
      "execution_count": null,
      "outputs": []
    },
    {
      "cell_type": "code",
      "source": [
        "folder_path = '/content/dataset/train'\n",
        "dataset = {}\n",
        "\n",
        "# 이미지와 라벨 리스트에 담기\n",
        "for label in os.listdir(folder_path):\n",
        "    sub_path = folder_path+'/'+label+'/'\n",
        "    dataset[label] = []\n",
        "    for filename in os.listdir(sub_path):\n",
        "        dataset[label].append(sub_path+filename)\n",
        "\n",
        "dataset"
      ],
      "metadata": {
        "id": "3K6b_BEeyv4f"
      },
      "execution_count": null,
      "outputs": []
    },
    {
      "cell_type": "code",
      "source": [
        "label2index = {'daily' : 0, 'comic' : 1 , 'fantasy' : 2 , 'action' : 3,\n",
        "               'drama' : 4, 'pure' : 5, 'sensibility' : 6, 'thrill' : 7, 'historical' : 8, 'sports' : 9}"
      ],
      "metadata": {
        "id": "d2XAX-chwIou"
      },
      "execution_count": null,
      "outputs": []
    },
    {
      "cell_type": "code",
      "source": [
        "x_train, y_train = [], []\n",
        "\n",
        "for label, filenames in dataset.items():\n",
        "    for filename in filenames:\n",
        "        image = cv2.imread(filename) # img를 array 형태로 변경\n",
        "\n",
        "        x_train.append(image)\n",
        "        y_train.append(label2index[label]) # label을 index로 변경"
      ],
      "metadata": {
        "id": "UHjZIjJywIMr"
      },
      "execution_count": null,
      "outputs": []
    },
    {
      "cell_type": "code",
      "source": [
        "x_train, y_train = np.array(x_train), np.array(y_train)"
      ],
      "metadata": {
        "id": "at2Ns8weyv4h"
      },
      "execution_count": null,
      "outputs": []
    },
    {
      "cell_type": "code",
      "source": [
        "x_train = x_train.astype('float32')"
      ],
      "metadata": {
        "id": "dmLXKsrsyv4h"
      },
      "execution_count": null,
      "outputs": []
    },
    {
      "cell_type": "code",
      "source": [
        "x_train.shape, y_train.shape"
      ],
      "metadata": {
        "id": "c9RaYNHqyv4h"
      },
      "execution_count": null,
      "outputs": []
    },
    {
      "cell_type": "markdown",
      "source": [
        "### **validataion data**"
      ],
      "metadata": {
        "id": "ppNLz6rkCNAz"
      }
    },
    {
      "cell_type": "code",
      "source": [
        "folder_path = '/content/dataset/val'\n",
        "dataset = {}\n",
        "\n",
        "# 이미지와 라벨 리스트에 담기\n",
        "for label in os.listdir(folder_path):\n",
        "    sub_path = folder_path+'/'+label+'/'\n",
        "    dataset[label] = []\n",
        "    for filename in os.listdir(sub_path):\n",
        "        dataset[label].append(sub_path+filename)\n",
        "\n",
        "dataset"
      ],
      "metadata": {
        "id": "TndcABd7zf3G"
      },
      "execution_count": null,
      "outputs": []
    },
    {
      "cell_type": "code",
      "source": [
        "x_val, y_val = [], []\n",
        "\n",
        "for label, filenames in dataset.items():\n",
        "    for filename in filenames:\n",
        "        image = cv2.imread(filename) # img를 array 형태로 변경\n",
        "\n",
        "        x_val.append(image)\n",
        "        y_val.append(label2index[label]) # label을 index로 변경"
      ],
      "metadata": {
        "id": "j6hXb76Gzf3H"
      },
      "execution_count": null,
      "outputs": []
    },
    {
      "cell_type": "code",
      "source": [
        "x_val, y_val= np.array(x_val), np.array(y_val)"
      ],
      "metadata": {
        "id": "-r4-KSmYzf3H"
      },
      "execution_count": null,
      "outputs": []
    },
    {
      "cell_type": "code",
      "source": [
        "x_val = x_val.astype('float32')"
      ],
      "metadata": {
        "id": "TkXsJ-iOzf3H"
      },
      "execution_count": null,
      "outputs": []
    },
    {
      "cell_type": "code",
      "source": [
        "x_val.shape, y_val.shape"
      ],
      "metadata": {
        "id": "hUfLYbnTzf3H"
      },
      "execution_count": null,
      "outputs": []
    },
    {
      "cell_type": "markdown",
      "source": [
        "### **test data**"
      ],
      "metadata": {
        "id": "HUmiam_QeDLz"
      }
    },
    {
      "cell_type": "code",
      "source": [
        "folder_path = '/content/dataset/test'\n",
        "dataset = {}\n",
        "\n",
        "# 이미지와 라벨 리스트에 담기\n",
        "for label in os.listdir(folder_path):\n",
        "    sub_path = folder_path+'/'+label+'/'\n",
        "    dataset[label] = []\n",
        "    for filename in os.listdir(sub_path):\n",
        "        dataset[label].append(sub_path+filename)\n",
        "\n",
        "dataset"
      ],
      "metadata": {
        "id": "XNLyAHpHzgns"
      },
      "execution_count": null,
      "outputs": []
    },
    {
      "cell_type": "code",
      "source": [
        "x_test, y_test = [], []\n",
        "\n",
        "for label, filenames in dataset.items():\n",
        "    for filename in filenames:\n",
        "        image = cv2.imread(filename) # img를 array 형태로 변경\n",
        "\n",
        "        x_test.append(image)\n",
        "        y_test.append(label2index[label]) # label을 index로 변경"
      ],
      "metadata": {
        "id": "RKe2LD7dzgns"
      },
      "execution_count": null,
      "outputs": []
    },
    {
      "cell_type": "code",
      "source": [
        "x_test, y_test = np.array(x_test), np.array(y_test)"
      ],
      "metadata": {
        "id": "kJXzfKERzgns"
      },
      "execution_count": null,
      "outputs": []
    },
    {
      "cell_type": "code",
      "source": [
        "x_test = x_test.astype('float32')"
      ],
      "metadata": {
        "id": "1TdvtozVzgns"
      },
      "execution_count": null,
      "outputs": []
    },
    {
      "cell_type": "code",
      "source": [
        "x_test.shape, y_test.shape"
      ],
      "metadata": {
        "id": "TwWNOq0Uzgnt"
      },
      "execution_count": null,
      "outputs": []
    },
    {
      "cell_type": "markdown",
      "source": [
        "### **Zero Centering**"
      ],
      "metadata": {
        "id": "tyey3M927sDV"
      }
    },
    {
      "cell_type": "code",
      "source": [
        "def zero_mean(image):\n",
        "    # zero-centering\n",
        "    return np.mean(image, axis=0)"
      ],
      "metadata": {
        "id": "KMatYPhy7sDW"
      },
      "execution_count": null,
      "outputs": []
    },
    {
      "cell_type": "code",
      "source": [
        "zero_mean_img = zero_mean(x_train)"
      ],
      "metadata": {
        "id": "HvVFXGQq7sDb"
      },
      "execution_count": null,
      "outputs": []
    },
    {
      "cell_type": "code",
      "source": [
        "zero_mean_img.shape"
      ],
      "metadata": {
        "id": "Z7CCAfzz7sDc"
      },
      "execution_count": null,
      "outputs": []
    },
    {
      "cell_type": "code",
      "source": [
        "x_train -= zero_mean_img"
      ],
      "metadata": {
        "id": "oWMntBtb7sDc"
      },
      "execution_count": null,
      "outputs": []
    },
    {
      "cell_type": "code",
      "source": [
        "x_val -= zero_mean_img\n",
        "x_test -= zero_mean_img"
      ],
      "metadata": {
        "id": "ltSStr4D7sDd"
      },
      "execution_count": null,
      "outputs": []
    },
    {
      "cell_type": "markdown",
      "source": [
        "# **ResNet50 모델 학습**"
      ],
      "metadata": {
        "id": "1wSZPzo57t3l"
      }
    },
    {
      "cell_type": "markdown",
      "source": [
        "전부 재학습 모델"
      ],
      "metadata": {
        "id": "FHzkkMlOGSC6"
      }
    },
    {
      "cell_type": "code",
      "source": [
        "# #전부 재학습 모델\n",
        "# base_model = ResNet50(include_top=False, input_shape = (112, 112,3), weights = 'imagenet')\n",
        "# base_model.trainable =True\n",
        "# for layer in base_model.layers[-100:]:\n",
        "#    layer.trainable = False\t\n",
        "# inputs = tf.keras.Input(shape=(112, 112,3))\n",
        "\n",
        "# x = base_model(inputs, training=False)\n",
        "\n",
        "# x = tf.keras.layers.Flatten(input_shape=base_model.output_shape[1:])(x)\n",
        "# x = tf.keras.layers.Dense(128, activation='relu')(x)\n",
        "# x= tf.keras.layers.Dropout(0.5)(x)\n",
        "# outputs = tf.keras.layers.Dense(10, activation='softmax')(x)\n",
        "\n",
        "# model = tf.keras.Model(inputs, outputs)   \n",
        "\n",
        "# model.compile(optimizer = tf.keras.optimizers.Adam( learning_rate= 0.0001),\n",
        "#                 loss = 'sparse_categorical_crossentropy',\n",
        "#                 metrics=['accuracy'])"
      ],
      "metadata": {
        "id": "AfGWRKm5bO9-"
      },
      "execution_count": null,
      "outputs": []
    },
    {
      "cell_type": "markdown",
      "source": [
        "분류기만 재학습 모델"
      ],
      "metadata": {
        "id": "7FGEiPxKGVGA"
      }
    },
    {
      "cell_type": "code",
      "source": [
        "# ## 분류기만 재학습\n",
        "# base_model = ResNet50(include_top=False, input_shape = (112, 112,3), weights = 'imagenet')# 이미지만 가져다 쓸게\n",
        "# #base_model.output_shape\n",
        "# base_model.trainable = False #봉쇄 //베이스모델 하위층\n",
        "# inputs = tf.keras.Input(shape=(112, 112, 3))\n",
        "# x = base_model(inputs, training=False) # batchnorm 부분 update 방지\n",
        "# x = tf.keras.layers.Flatten(input_shape=base_model.output_shape[1:])(x)\n",
        "# x = tf.keras.layers.Dense(128, activation='relu')(x)\n",
        "# x= tf.keras.layers.Dropout(0.5)(x)\n",
        "# # #알렉스넷에서 첨 나옴 1.데이터핸들링(증강통해서)/2.모델복잡도(기존:웨이트의 크기에 규제-but 크기를 줄여도 웨이트의 개수가 많아서 억제시키기 어려웠음 해결방안중 층,노드수를 줄이니까 언더핏 / ) \n",
        "# outputs = tf.keras.layers.Dense(10, activation='softmax')(x)\n",
        "\n",
        "# model = tf.keras.Model(inputs, outputs)#케아스모델로 인풋과 아웃풋 *이건 외워야한다!\n",
        "# model.compile(optimizer = tf.keras.optimizers.Adam(learning_rate= 0.001),\n",
        "#                   loss = 'categorical_crossentropy',\n",
        "#                   metrics=['accuracy'])\n"
      ],
      "metadata": {
        "id": "7uWxQE3iNZND"
      },
      "execution_count": null,
      "outputs": []
    },
    {
      "cell_type": "markdown",
      "source": [
        "일부 재학습 모델"
      ],
      "metadata": {
        "id": "sV348rSjGZuG"
      }
    },
    {
      "cell_type": "code",
      "source": [
        "#일부 재학습 모델\n",
        "base_model = ResNet50(include_top=False, input_shape = (112, 112,3), weights = 'imagenet')\n",
        "\n",
        "for layer in base_model.layers[:-50]: # 10-50층까지 개방가능\n",
        "    layer.trainable = False\t\t\t\n",
        "\n",
        "inputs = tf.keras.Input(shape=(112, 112, 3))\n",
        "\n",
        "x = base_model(inputs, training=False) # batchnorm 부분 update 방지\n",
        "\n",
        "x = tf.keras.layers.Flatten(input_shape=base_model.output_shape[1:])(x)\n",
        "x = tf.keras.layers.Dense(128, activation='relu')(x)\n",
        "x= tf.keras.layers.Dropout(0.5)(x)\n",
        "outputs = tf.keras.layers.Dense(10, activation='softmax')(x)\n",
        "\n",
        "model = tf.keras.Model(inputs, outputs)\n",
        "\n",
        "model.compile(optimizer = tf.keras.optimizers.Adam( learning_rate= 0.0001),\n",
        "                loss = 'sparse_categorical_crossentropy',\n",
        "                metrics=['accuracy'])"
      ],
      "metadata": {
        "id": "wo6EVNQBET9f"
      },
      "execution_count": null,
      "outputs": []
    },
    {
      "cell_type": "code",
      "source": [
        "history = model.fit(x_train, y_train, epochs = 8, batch_size= 125, validation_data=(x_val, y_val))"
      ],
      "metadata": {
        "id": "3YkTOjYI-UD5"
      },
      "execution_count": null,
      "outputs": []
    },
    {
      "cell_type": "code",
      "source": [
        "model.evaluate(x_test, y_test)"
      ],
      "metadata": {
        "id": "wuAM_IxKtDtu"
      },
      "execution_count": null,
      "outputs": []
    },
    {
      "cell_type": "markdown",
      "source": [
        "## **ResNet50 모델 학습결과 시각화**"
      ],
      "metadata": {
        "id": "lBIKjCOAzTvF"
      }
    },
    {
      "cell_type": "markdown",
      "source": [
        "Model accuracy 그래프"
      ],
      "metadata": {
        "id": "nrOuWehvzor7"
      }
    },
    {
      "cell_type": "code",
      "source": [
        "from matplotlib import pyplot as plt\n",
        "\n",
        "plt.plot(history.history['accuracy'])\n",
        "plt.plot(history.history['val_accuracy'])\n",
        "plt.title('Model accuracy')\n",
        "plt.xlabel('Epoch')\n",
        "plt.ylabel('accuracy')\n",
        "plt.legend(['Train', 'Test'], loc='upper left')\n",
        "plt.show()"
      ],
      "metadata": {
        "id": "dPx0HY5kz7Jb"
      },
      "execution_count": null,
      "outputs": []
    },
    {
      "cell_type": "markdown",
      "source": [
        "Model loss 그래프"
      ],
      "metadata": {
        "id": "Y1W3JZ2nzpcP"
      }
    },
    {
      "cell_type": "code",
      "source": [
        "from matplotlib import pyplot as plt\n",
        "\n",
        "plt.plot(history.history['loss'])\n",
        "plt.plot(history.history['val_loss'])\n",
        "plt.title('Model loss')\n",
        "plt.xlabel('Epoch')\n",
        "plt.ylabel('loss')\n",
        "plt.legend(['Train', 'Test'], loc='lower right')\n",
        "plt.show()"
      ],
      "metadata": {
        "id": "0iJJUpwzz79D"
      },
      "execution_count": null,
      "outputs": []
    },
    {
      "cell_type": "markdown",
      "source": [
        "# **웹툰 장르별 썸네일 여러가지 모델학습과 텐서보드 적용**"
      ],
      "metadata": {
        "id": "OLs77IPh1uqc"
      }
    },
    {
      "cell_type": "markdown",
      "source": [
        "여기서 선택해서 base_model로 선정하면 다른 모델로 바꾸기 가능하다."
      ],
      "metadata": {
        "id": "TqAFREZ1Gidc"
      }
    },
    {
      "cell_type": "code",
      "source": [
        "#여기서 선택해서 base_model로 선정하면 다른 모델로 바꾸기 가능하다.\n",
        "\n",
        "# from tensorflow.keras.applications.vgg16 import VGG16\n",
        "# from tensorflow.keras.applications.vgg19 import VGG19                       \n",
        "# from tensorflow.keras.applications.inception_v3 import InceptionV3\n",
        "from tensorflow.keras.applications.resnet import ResNet50 # 결과가 가장 좋음\n",
        "# model_VGG16 = VGG16(include_top=False, input_shape = (112, 112,3), weights='imagenet')\n",
        "# model_VGG19 = VGG19(include_top=False, input_shape = (112, 112,3), weights='imagenet')\n",
        "# model_INCEPTIONV3 = InceptionV3(include_top=False, input_shape = (112, 112,3), weights='imagenet')\n",
        "model_RESNET50 = ResNet50(include_top=False, input_shape = (112, 112,3), weights='imagenet')"
      ],
      "metadata": {
        "id": "BqRw_1cD1t8T"
      },
      "execution_count": null,
      "outputs": []
    },
    {
      "cell_type": "code",
      "source": [
        "%load_ext tensorboard"
      ],
      "metadata": {
        "id": "9MIbHYxz2D0j"
      },
      "execution_count": null,
      "outputs": []
    },
    {
      "cell_type": "code",
      "source": [
        "import tensorflow as tf\n",
        "import datetime"
      ],
      "metadata": {
        "id": "nV7eZ5KZ2FCD"
      },
      "execution_count": null,
      "outputs": []
    },
    {
      "cell_type": "code",
      "source": [
        "## 모델 설정\n",
        "base_model = model_RESNET50\n",
        "\n",
        "for layer in base_model.layers[:]: \n",
        "    layer.trainable = True\t\t\t\n",
        "\n",
        "inputs = tf.keras.Input(shape=(112, 112, 3))\n",
        "\n",
        "x = base_model(inputs, training=False) # batchnorm 부분 update 방지\n",
        "\n",
        "x = tf.keras.layers.Flatten(input_shape=base_model.output_shape[1:])(x)\n",
        "x = tf.keras.layers.Dense(256, activation='relu')(x)\n",
        "x= tf.keras.layers.Dropout(0.5)(x)\n",
        "outputs = tf.keras.layers.Dense(10, activation='softmax')(x)\n",
        "\n",
        "model = tf.keras.Model(inputs, outputs)\n",
        "\n",
        "model.compile(optimizer = tf.keras.optimizers.Adam( learning_rate= 0.0001),\n",
        "                loss = 'sparse_categorical_crossentropy',\n",
        "                metrics=['accuracy'])"
      ],
      "metadata": {
        "id": "IbxuVXQC2GjL"
      },
      "execution_count": null,
      "outputs": []
    },
    {
      "cell_type": "code",
      "source": [
        "model_name = 'version.1'\n",
        "current_time = datetime.datetime.now().strftime(\"%Y%m%d\") # Y : 연도 / m : 월 / d : 일 / H : 시 / M : 분 / S : 초\n",
        "current_time"
      ],
      "metadata": {
        "id": "ILtS53kN2IXj"
      },
      "execution_count": null,
      "outputs": []
    },
    {
      "cell_type": "code",
      "source": [
        "checkpoint_path = \"mytraining/cp.ckpt\"\n",
        "checkpoint_dir = os.path.dirname(checkpoint_path) # 현재 경로 폴더 반환\n",
        "\n",
        "checkpoint_dir"
      ],
      "metadata": {
        "id": "I0T4PhtN2JdN"
      },
      "execution_count": null,
      "outputs": []
    },
    {
      "cell_type": "code",
      "source": [
        "log_dir = \"logs/fit/\" + current_time + model_name"
      ],
      "metadata": {
        "id": "QlfrTrQl2J_r"
      },
      "execution_count": null,
      "outputs": []
    },
    {
      "cell_type": "code",
      "source": [
        "callbacks = [tf.keras.callbacks.EarlyStopping(monitor='val_accuracy', patience=4, restore_best_weights=True),\n",
        "             tf.keras.callbacks.ModelCheckpoint(filepath=checkpoint_path, save_weights_only=True, save_best_only=True, verbose=1),\n",
        "             tf.keras.callbacks.TensorBoard(log_dir=log_dir, histogram_freq=1) # epoch마다 히스토그램 계산\n",
        "             ]"
      ],
      "metadata": {
        "id": "gBetaPum2LRz"
      },
      "execution_count": null,
      "outputs": []
    },
    {
      "cell_type": "code",
      "source": [
        "model.fit(x_train, y_train, epochs = 20, batch_size= 100, validation_data=(x_val, y_val), callbacks=callbacks)"
      ],
      "metadata": {
        "id": "Vx2bX7m22Mlz"
      },
      "execution_count": null,
      "outputs": []
    },
    {
      "cell_type": "code",
      "source": [
        "model.evaluate(x_test, y_test, verbose=2)"
      ],
      "metadata": {
        "id": "oQfLBwOA2OiC"
      },
      "execution_count": null,
      "outputs": []
    },
    {
      "cell_type": "code",
      "source": [
        "%tensorboard --logdir logs/fit"
      ],
      "metadata": {
        "id": "9QCUUh1e2P0y"
      },
      "execution_count": null,
      "outputs": []
    }
  ]
}