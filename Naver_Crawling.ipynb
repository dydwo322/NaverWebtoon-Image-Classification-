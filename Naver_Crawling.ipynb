{
  "nbformat": 4,
  "nbformat_minor": 0,
  "metadata": {
    "colab": {
      "provenance": []
    },
    "kernelspec": {
      "name": "python3",
      "display_name": "Python 3"
    },
    "language_info": {
      "name": "python"
    }
  },
  "cells": [
    {
      "cell_type": "code",
      "source": [
        "import requests\n",
        "from bs4 import BeautifulSoup\n",
        "from tqdm.notebook import tqdm\n",
        "import urllib.request\n",
        "import os"
      ],
      "metadata": {
        "id": "KswXI0C4A4-P"
      },
      "execution_count": null,
      "outputs": []
    },
    {
      "cell_type": "markdown",
      "source": [
        "# **네이버 웹툰 10개 장르의 웹툰 제목, 작가, 별점, 썸네일 정보 크롤링**"
      ],
      "metadata": {
        "id": "rj6nSuTtOX7M"
      }
    },
    {
      "cell_type": "markdown",
      "source": [
        "**웹툰 장르 리스트와 각 웹툰의 title_id 크롤링**"
      ],
      "metadata": {
        "id": "esDL-2n5mmid"
      }
    },
    {
      "cell_type": "code",
      "source": [
        "#웹툰 장르 리스트\n",
        "webtoon_genre=[]\n",
        "url = 'https://comic.naver.com/webtoon/genre'\n",
        "resp = requests.get(url)\n",
        "soup = BeautifulSoup(resp.content,'lxml')\n",
        "a_tags = soup.select('ul.spot a')\n",
        "\n",
        "for a_tag in a_tags:\n",
        "  a_tag['href'] = a_tag['href'].split('?')[1]\n",
        "  webtoon_genre.append(a_tag['href'])\n",
        "# print(webtoon_genre)\n",
        "#['genre=episode', 'genre=omnibus', 'genre=story', 'genre=daily', 'genre=comic', 'genre=fantasy', 'genre=action', 'genre=drama', 'genre=pure', 'genre=sensibility', 'genre=thrill', 'genre=historical', 'genre=sports']\n",
        "\n",
        "#모든 웹툰들의 타이틀아이디\n",
        "webtoon_title_id = []\n",
        "\n",
        "for genre in webtoon_genre:\n",
        "  url = f'https://comic.naver.com/webtoon/genre?{genre}'\n",
        "  resp = requests.get(url)\n",
        "  soup = BeautifulSoup(resp.text,'lxml')\n",
        "  html = soup.select('ul.img_list li dl dt a')\n",
        "  for j in range(len(html)):\n",
        "    webtoon_title_id.append(html[j]['href'])\n",
        "# print(webtoon_title_id)\n",
        "len(webtoon_title_id)  "
      ],
      "metadata": {
        "colab": {
          "base_uri": "https://localhost:8080/"
        },
        "id": "tZXp_qFYKar7",
        "outputId": "9339fae0-1c77-4f4a-a30b-e5efc1ba0922"
      },
      "execution_count": null,
      "outputs": [
        {
          "output_type": "execute_result",
          "data": {
            "text/plain": [
              "3912"
            ]
          },
          "metadata": {},
          "execution_count": 13
        }
      ]
    },
    {
      "cell_type": "code",
      "source": [
        "#각 웹툰의 마지막 페이지와 최신화 크롤링 코드 / 썸네일을 가져올때 사용됨\n",
        "page_size=[]\n",
        "total_hwa = []\n",
        "for i in tqdm(webtoon_title_id):\n",
        "  url =f\"https://comic.naver.com{i}\"\n",
        "  res = requests.get(url)\n",
        "  soup = BeautifulSoup(res.content, 'lxml')\n",
        "\n",
        "  page_tag =soup.select(\"table.viewList tr td.title  a\")\n",
        "  total_hwa.append(int(page_tag[0][\"href\"].split(\"&\")[1].strip(\"no=\")))\n",
        "  page_size.append(int(page_tag[0][\"href\"].split(\"&\")[1].strip(\"no=\"))//10+1)\n",
        "\n",
        "len(total_hwa)"
      ],
      "metadata": {
        "colab": {
          "base_uri": "https://localhost:8080/",
          "height": 68,
          "referenced_widgets": [
            "0a3116e294be45b78cf482950987d199",
            "f59943e816d74445b0ec29f0ec0e9bd1",
            "d2958b19cf9943b0aba5302537c69ecd",
            "df6f1ffc61e74b66a27498e1ac7db750",
            "940e733b5f244b58bef3b11cdcb087b5",
            "cec53810504e44aa81b408ae493b3873",
            "bc257a191b17429991b4bfcddd19d44c",
            "0e807f753056407d865d3f3e05a60a4d",
            "844038ca66744034961a5c7860eee77a",
            "c6b6860cdba24936b00edf7f99668310",
            "a79d4d7c8d6b49388d717177d9b2bdc9"
          ]
        },
        "id": "DofGKkA2lkXu",
        "outputId": "b75f0b1c-414d-43f0-b085-fd77edbe75a2"
      },
      "execution_count": null,
      "outputs": [
        {
          "output_type": "display_data",
          "data": {
            "text/plain": [
              "  0%|          | 0/3912 [00:00<?, ?it/s]"
            ],
            "application/vnd.jupyter.widget-view+json": {
              "version_major": 2,
              "version_minor": 0,
              "model_id": "0a3116e294be45b78cf482950987d199"
            }
          },
          "metadata": {}
        },
        {
          "output_type": "execute_result",
          "data": {
            "text/plain": [
              "3912"
            ]
          },
          "metadata": {},
          "execution_count": 14
        }
      ]
    },
    {
      "cell_type": "code",
      "source": [
        "len(total_hwa),len(page_size)"
      ],
      "metadata": {
        "colab": {
          "base_uri": "https://localhost:8080/"
        },
        "id": "unHwZ57JoENV",
        "outputId": "b9871397-e2aa-4ebb-ba29-42d45ee0e322"
      },
      "execution_count": null,
      "outputs": [
        {
          "output_type": "execute_result",
          "data": {
            "text/plain": [
              "(3912, 3912)"
            ]
          },
          "metadata": {},
          "execution_count": 17
        }
      ]
    },
    {
      "cell_type": "markdown",
      "source": [
        "## **각 웹툰들의 종합정보 크롤링** \n",
        "**(실제로 다시할때는 양이 많기때문에 각 장르별로 나눠하는걸 추천한다.)**"
      ],
      "metadata": {
        "id": "EpAes_Bppqq1"
      }
    },
    {
      "cell_type": "markdown",
      "source": [
        "**앞서 구한 title_id 리스트와 각 웹툰의 마지막 페이지 리스트를 통해서 크롤링**"
      ],
      "metadata": {
        "id": "i3F2mDUovRN0"
      }
    },
    {
      "cell_type": "code",
      "source": [
        "dic_webtoon={\n",
        "    '제목' : [],\n",
        "    '장르' : [],\n",
        "    '작가':[],\n",
        "    '별점':[],\n",
        "    '이미지' :[]\n",
        "}\n",
        "\n",
        "for x in tqdm(range(len(webtoon_title_id))):\n",
        "  for i in tqdm(range(page_size[x])):\n",
        "\n",
        "    url = f'https://comic.naver.com/{webtoon_title_id[x]}&page={i+1}'\n",
        "    resp = requests.get(url)\n",
        "    soup = BeautifulSoup(resp.text,'lxml')\n",
        "    table= soup.select('table.viewList')\n",
        "    thumbnail = table[0].find_all('img')\n",
        "    rating = soup.select('div.rating_type')\n",
        "    author = soup.select('span.wrt_nm')\n",
        "    title= soup.select('span.title')\n",
        "\n",
        "    n=0\n",
        "    #for j in range(len(thumbnail))\n",
        "    for j in thumbnail:\n",
        "      if('thumbnail' in j['src']):\n",
        "        dic_webtoon['이미지'].append(j['src'])\n",
        "        dic_webtoon['별점'].append(rating[n].text.split('\\n')[-2])\n",
        "        dic_webtoon['제목'].append(title[0].text)\n",
        "        dic_webtoon['작가'].append(author[0].text.strip('\\n\\t\\t\\t\\t\\t\\t\\t'))\n",
        "        dic_webtoon['장르'].append('action')\n",
        "        n+=1"
      ],
      "metadata": {
        "id": "FwY1NyH5pjde"
      },
      "execution_count": null,
      "outputs": []
    },
    {
      "cell_type": "markdown",
      "source": [
        "## **크롤링 해온 웹툰들의 정보들을 데이터프레임화**"
      ],
      "metadata": {
        "id": "tdPUJYiKqFH9"
      }
    },
    {
      "cell_type": "code",
      "source": [
        "#웹툰들의 정보 데이터프레임화\n",
        "import pandas as pd\n",
        "df_webtoon = pd.DataFrame(dic_webtoon).reset_index(drop=True)\n",
        "\n",
        "df_webtoon"
      ],
      "metadata": {
        "id": "hEOYybV8qEgl"
      },
      "execution_count": null,
      "outputs": []
    },
    {
      "cell_type": "code",
      "source": [
        "#웹툰 제목 리스트\n",
        "name = []\n",
        "for i in df_webtoon['제목']:\n",
        "  if(i not in name):\n",
        "    name.append(i)\n",
        "name"
      ],
      "metadata": {
        "id": "P05_M8pvqmIe"
      },
      "execution_count": null,
      "outputs": []
    },
    {
      "cell_type": "code",
      "source": [
        "#웹툰 타이틀아이디 번호부분 추출\n",
        "webtoon_id = []\n",
        "for i in webtoon_title_id:\n",
        "  webtoon_id.append(i.split('=')[-1])"
      ],
      "metadata": {
        "id": "F4IynRi7qz_F"
      },
      "execution_count": null,
      "outputs": []
    },
    {
      "cell_type": "code",
      "source": [
        "#이미지의 파일의 경로 리스트\n",
        "file_name = []\n",
        "for i in tqdm(range(len(name))):\n",
        "  now_webtoon = df_webtoon[df_webtoon['제목'] == name[i]]\n",
        "  for j in tqdm(range(len(now_webtoon))):\n",
        "    file_name.append(f\"./img/action/{j+1}_action_{webtoon_id[i]}.jpg\")"
      ],
      "metadata": {
        "id": "77KUzNPirB6u"
      },
      "execution_count": null,
      "outputs": []
    },
    {
      "cell_type": "code",
      "source": [
        "#썸네일 다운로드\n",
        "for i in tqdm(range(len(file_name))):\n",
        "  \n",
        "  urllib.request.urlretrieve(df_webtoon['이미지'][i], file_name[i])"
      ],
      "metadata": {
        "id": "49nVUPq-tDIO"
      },
      "execution_count": null,
      "outputs": []
    },
    {
      "cell_type": "code",
      "source": [
        "!zip -r /content/img.zip /content/img\n",
        "#/content/img.zip :만들 zip 파일의 이름과 저장위치\n",
        "#/content/img : 압출할 폴더"
      ],
      "metadata": {
        "id": "Lx8yG3eYtLNv"
      },
      "execution_count": null,
      "outputs": []
    },
    {
      "cell_type": "code",
      "source": [
        "#데이터프레임에 넣을 이미지 경로\n",
        "image_name = []\n",
        "for i in range(len(file_name)):\n",
        "  src = './img/'+file_name[i].split('/')[-1]\n",
        "  image_name.append(src)\n",
        "image_name"
      ],
      "metadata": {
        "id": "moP6aIXntsJ8"
      },
      "execution_count": null,
      "outputs": []
    },
    {
      "cell_type": "code",
      "source": [
        "#썸네일이 들어있는 링크가 아닌 이미지가 있는 경로로 바꿔주는 작업\n",
        "for i in range(len(image_name)):\n",
        "  df_webtoon['이미지'][i] = image_name[i]"
      ],
      "metadata": {
        "id": "bIbpj6kwuiol"
      },
      "execution_count": null,
      "outputs": []
    },
    {
      "cell_type": "code",
      "source": [
        "# df_webtoon = df_webtoon.drop('Unnamed: 0', axis=1)\n",
        "# df_webtoon"
      ],
      "metadata": {
        "id": "Fstyn6CEutJx"
      },
      "execution_count": null,
      "outputs": []
    },
    {
      "cell_type": "code",
      "source": [
        "df_webtoon.to_csv('네이버웹툰 장르별통합정보.csv', encoding='utf-8-sig')"
      ],
      "metadata": {
        "id": "9kbTFVJHut7G"
      },
      "execution_count": null,
      "outputs": []
    }
  ]
}